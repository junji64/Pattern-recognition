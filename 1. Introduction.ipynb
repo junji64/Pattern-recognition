{
 "cells": [
  {
   "cell_type": "markdown",
   "metadata": {},
   "source": [
    "# 1. 패턴인식 개요\n",
    "\n",
    "## 1.1. 정의\n",
    "\n",
    "### 1.1.1 패턴인식 (Pattern Recognition) 이란?\n",
    "\n",
    "계산이 가능한 기계적인 장치(컴퓨터)가 어떠한 대상을 인식하는 문제를 다루는 **인지과학**과 **인공지능**의 한 분야, 또는 **머신러닝**의 한 분야\n",
    "- **인지과학 (Cognitive Science)**: 지능과 인식 문제를 다루는 포괄적인 과학분야\n",
    "- **인공지능 (Artificial Intelligence)**: 인간의 학습능력과 추론능력을 인공적으로 모델링하여 외부대상을 지각하는 능력을 컴퓨터로 구현하는 기술\n",
    "- **머신러닝 (Machine Learning)** : 인공지능을 구현하는 구체적인 접근 방식들 \n",
    "\n",
    "인지과학 > 인공지능 > 머신러닝 > 패턴인식"
   ]
  },
  {
   "cell_type": "markdown",
   "metadata": {},
   "source": [
    "## 1.2. 패턴인식의 응용분야\n",
    "\n",
    "### 문자인식\n",
    "\n",
    "일반적으로 스캐너로 또는 영상으로 받아들인 텍스트 이미지를 컴퓨터에서 편집 가능한 코드화된 문자로 변환하게 된다.\n",
    "- 자동 우편물 분류기\n",
    "- 필기체 문자 인식\n",
    "- 수표 및 지폐 인식\n",
    "- 차량 번호판 인식\n",
    "\n",
    "### 생체인식 / 행동패턴 인식\n",
    "- 음성인식\n",
    "- 지문인식\n",
    "- 홍채인식\n",
    "- 얼굴인식\n",
    "- DNA 매핑\n",
    "- 보행 패턴 분석 및 분류\n",
    "- 발화 습관 분석 및 분류 등에 사용된다."
   ]
  },
  {
   "cell_type": "code",
   "execution_count": null,
   "metadata": {
    "collapsed": true
   },
   "outputs": [],
   "source": []
  }
 ],
 "metadata": {
  "kernelspec": {
   "display_name": "Python 3",
   "language": "python",
   "name": "python3"
  },
  "language_info": {
   "codemirror_mode": {
    "name": "ipython",
    "version": 3
   },
   "file_extension": ".py",
   "mimetype": "text/x-python",
   "name": "python",
   "nbconvert_exporter": "python",
   "pygments_lexer": "ipython3",
   "version": "3.6.4"
  }
 },
 "nbformat": 4,
 "nbformat_minor": 2
}
