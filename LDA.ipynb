{
 "cells": [
  {
   "cell_type": "markdown",
   "metadata": {},
   "source": [
    "# 선형판별분석법(LDA)\n",
    "\n",
    "- **PCA(주성분 분석법: Principal Component Analysis)**은 데이타의 **최적 표현**의 견지에서 데이타 차원을 축소하는 방법\n",
    "- **LDA(선형판별 분석법: Linear Discriminent Analysis)**은 데이타의 **최적 분류**의 견지에서 데이타 차원을 축소하는 방법\n",
    "  - (목적) 가능한 클래스 간의 분별정보를 최대한 유지시키면서 차원을 축소\n",
    "  - D-차원 표본 데이타 집합 $X=\\{x^{(1},x^{(2},\\cdots,x^{(N}\\}$ 가 주어진 경우, $\\omega_1$클래스에 속하는 것이 $N_1$개이고, $\\omega_2$클래스에 속하는 것이 $N_2$개 일  때, $x^{(i}$를 임의의 선을 따라서 사영하여 스칼라 $y$를 얻고자 한다.\n",
    "  $$ y = W^Tx $$\n",
    "  - 가능한 모든 선들 중에서 이러한 $\\omega_1$ 과 $\\omega_2$의 스칼라 값들의 분리를 최대화 하는 것을 선택한다.( 예: 2차원의 경우 다음과 같다)"
   ]
  },
  {
   "cell_type": "code",
   "execution_count": 3,
   "metadata": {
    "collapsed": false
   },
   "outputs": [
    {
     "data": {
      "image/png": "[encoded data removed]",
      "text/plain": [
       "<matplotlib.figure.Figure at 0x1bc47479748>"
      ]
     },
     "metadata": {},
     "output_type": "display_data"
    }
   ],
   "source": [
    "import matplotlib.pyplot as plt\n",
    "X = [[5,5.2,6,6.1,6.2,6.4,7], [3.5,3.7,4.5,3,4,4.4,4.1]]\n",
    "plt.plot(X[0], X[1], 'ro')\n",
    "Y = [[6,6.2,7,7.1,7.2,7.4,8], [5.5,5.7,6.5,5,6,6.4,6.1]]\n",
    "plt.plot(Y[0], Y[1], 'bo')\n",
    "plt.axis('equal')\n",
    "plt.grid()\n",
    "plt.show()"
   ]
  },
  {
   "cell_type": "markdown",
   "metadata": {},
   "source": [
    "- 선형판별분석법(LDA)은 특징 공간 상에서 클래스분리를 최대화 하는 주축으로 사상시켜 선형 부공간으로 차원을 축소하는 방법이다.\n",
    "- 선형판별분석법(LDA)에서는 클래스간 분산(between-class scatter)과 클래스내 분산(within-class scatter)의 비율을 최대화하는 방식으로 데이타에 대한 특징벡터의 차원을 축소한다.\n",
    "$$ \\text{클래스간 분산(between-class Scatter)} \\over \\text{클래스내 분산(within-class Scatter) }$$"
   ]
  },
  {
   "cell_type": "markdown",
   "metadata": {},
   "source": [
    "### 2진 분류에 적용된 LDA\n",
    "어느 사영을 취하는 것이 좋을 것인가? ==> 좋은 사영을 찾기 위해서는 사영들 간의 분리정도를 측정할 수 있어야 한다.\n",
    "\n",
    "선형변환에의 한 사영\n",
    "$$ y = w^Tx $$\n",
    "여기에서 w: Dx1, x: Dx1\n",
    "\n",
    "평균을 기중 척도로 하면, 각 클래스들의 x와 y 에서의 평균백터는 다음과 같다.\n",
    "$$ \\mu_i = {1 \\over N_i}\\sum_{x\\in\\omega_i} x $$\n",
    "$$ \\tilde{\\mu_i} = {1 \\over N_i}\\sum_{y\\in\\omega_i} y = {1 \\over N_i}\\sum_{x\\in\\omega_i} w^T x = w^T  \\mu_i $$\n",
    "이 때 사영된 데이터들의 중심(평균) 간의 거리를 목적함수로 선택하면 \n",
    "$$ J(W) = \\bracevert \\tilde{\\mu_1} - \\tilde{\\mu_2}\\bracevert = \\bracevert w^T ( \\mu_1 -\\mu_2  )\\bracevert $$\n",
    "하지만, 이렇게 평균 만을 고려하면, 클래스 안에서의 표준편차가 고려되지 않으므로 좋은 척도가 아니다.\n",
    "\n",
    "Fisher 에 의해서 제안된 방법은 클래스내(within-class)의 스캐터로 정규화한 평균들간의 차이로 표현된 함수를 최대화 시키는 것이다.\n",
    "각 클래스들에 대하여 스캐터는 다음과 같이 주어지며\n",
    "\n",
    "$$ \\tilde {S_i} = \\sum_{y\\in\\omega_i} (y-\\tilde{\\mu_i})^2= \\sum_{y\\in\\omega_i} (y-\\tilde{\\mu_i})(y-\\tilde{\\mu_i})^T$$\n",
    "\n",
    "사영 표본들의 클래스내 분산(within-class scatter) \n",
    "$$ S_B = (\\tilde {S_1} + \\tilde {S_2} ) $$\n",
    "\n",
    "따라서, Ficher 의 선형판별은 다음의 목적함수를 최대화 하는 선형함수 $w^Tx$에 해당한다.\n",
    "$$ J(w) = { \\bracevert \\tilde{\\mu_1} - \\tilde{\\mu_2}\\bracevert ^2 \\over \\tilde {S_1} + \\tilde {S_2} }$$\n",
    "따라서, Fisher의 선형판펼식은 동일한 클래스의 표본들은 인접하게 사영이 취해지고, 동시에 클래스 간의 사영은 중심들이 가능한 멀리 떨어지게 하는 변환 행렬($w$)를 찾아내는 것이다.\n",
    "\n",
    "어떻게 변환행렬($w$) 에 대한 함수로 표현되는 위의 목적함수 $J(w)$를 최대화 하는 변환행렬 $w$를 찾을 것인가?"
   ]
  },
  {
   "cell_type": "markdown",
   "metadata": {},
   "source": [
    "최적의 사영 $\\bf{w}$를 구하기 위해서는 $J(\\bf{w})$를 $\\bf{w}$에 대한 함수로 표현해야 한다. \n",
    "다차원 특징공간에서 스캐터행렬은 사영상에서 분산과 동일한 형태\n",
    "$$ \\bf{S_i} = \\sum_{x\\in\\omega_i} (x-\\mu_i)(x-\\mu_i)^T $$\n",
    "따라서, 클래스내 스캐터행렬 $$ S_w = S_1 + S_2 $$\n",
    "사영된 $\\bf{y}$의 스캐터를 특징백터 $\\bf{x}$의 스캐터 행렬의 함수로 다음과 같이 표현이 된다.\n",
    "\n",
    "\\begin{align*}\n",
    "\\bf{\\tilde S_i} &= \\sum_{y\\in\\omega_i} \\bf{(y-\\tilde{\\mu_i})(y-\\tilde{\\mu_i})^T} \\\\\n",
    "                  &= \\sum_{y\\in\\omega_i} \\bf{(w^Tx-w^T\\mu_i)(w^Tx-w^T\\mu_i)^T}\\\\\n",
    "                  & = \\sum_{y\\in\\omega_i} \\bf{w^T(x-\\mu_i)(x-\\mu_i)^T}w\\\\\n",
    "                  & =  \\bf{w^T S_i w} \\\\\n",
    "\\end{align*}\n",
    "따라서\n",
    "$$ \\bf { \\tilde {S}_w = \\tilde{S}_1 + \\tilde{S}_2 = w^T S_w w}$$\n",
    "\n"
   ]
  },
  {
   "cell_type": "markdown",
   "metadata": {},
   "source": [
    "마찬가지로 사영된 평균들 간의 차이(~분산)를 원래의 특징공간에서의 평균들 간의 차이로 다음과 같이 동일한 표현될 수 있다.\n",
    "\n",
    "\\begin{align*}\n",
    "(\\bf{\\tilde\\mu_1 - \\tilde\\mu_2})^2  &= (\\bf{w^T \\mu_1 - w^T \\mu_2})^2 \\\\\n",
    "&= \n",
    "\\end{align*}"
   ]
  },
  {
   "cell_type": "code",
   "execution_count": null,
   "metadata": {
    "collapsed": true
   },
   "outputs": [],
   "source": []
  }
 ],
 "metadata": {
  "kernelspec": {
   "display_name": "Python 3",
   "language": "python",
   "name": "python3"
  },
  "language_info": {
   "codemirror_mode": {
    "name": "ipython",
    "version": 3
   },
   "file_extension": ".py",
   "mimetype": "text/x-python",
   "name": "python",
   "nbconvert_exporter": "python",
   "pygments_lexer": "ipython3",
   "version": "3.6.4"
  }
 },
 "nbformat": 4,
 "nbformat_minor": 2
}
