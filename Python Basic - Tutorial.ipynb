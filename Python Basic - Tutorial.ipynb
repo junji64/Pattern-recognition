{
 "cells": [
  {
   "cell_type": "markdown",
   "metadata": {},
   "source": [
    "# Python Tutorial - Basic\n",
    "\n",
    "(from https://github.com/kuleshov/cs228-material/blob/master/tutorials/python/cs228-python-tutorial.ipynb)\n",
    "\n",
    "## Introduction\n",
    "\n",
    "파이썬은 그 자체로 훌륭한 범용 프로그래밍 언어이지만 몇 가지 인기있는 라이브러리 (numpy, scipy, matplotlib)의 도움으로 과학 컴퓨팅을 위한 강력한 환경이 되었습니다. \n",
    "\n",
    "많은 사람들이 파이썬에 대한 약간의 경험이 있을 것으로 기대합니다. 나머지는 이 섹션이 파이썬 프로그래밍 언어와 과학 컴퓨팅을 위한 파이썬 사용에 대한 빠른 집중 코스로 사용될 것입니다. \n",
    "\n",
    "여러분 중 일부는 Matlab에 대한 사전 지식이 있을 수 있습니다. 이 경우 Matlab 사용자 페이지 (https://www.numpy.org/devdocs/user/numpy-for-matlab-users.html)를 권장합니다.\n",
    "\n",
    "이 자습서에서는 다음을 다룹니다.\n",
    "* 기본 파이썬 : 기본 데이터 유형 (컨테이너,리스트, 사전, 집합, 튜플), 함수, 클래스 \n",
    "* Numpy : 배열, 배열 인덱싱, 데이터 유형, 배열 수학, 방송\n",
    "* Matplotlib : 플로팅, 서브 플로트, 이미지 \n",
    "* IPython : 노트북 만들기, 일반적인 워크 플로우\n",
    "\n",
    "## Basics of Python\n",
    "\n",
    "파이썬은 높은 수준의 동적인 다중 패러다임의 프로그래밍 언어입니다. 파이썬 코드는 매우 가독성이 있지만 매우 적은 수의 코드 행으로 매우 강력한 아이디어를 표현할 수 있기 때문에 의사 코드와 거의 유사하다고 종종 말합니다. 예를 들어, 다음은 파이썬에서 고전적인 퀵 정렬 알고리즘을 구현 한 것입니다."
   ]
  },
  {
   "cell_type": "code",
   "execution_count": 4,
   "metadata": {
    "collapsed": false
   },
   "outputs": [
    {
     "name": "stdout",
     "output_type": "stream",
     "text": [
      "[1, 1, 2, 3, 6, 8, 10]\n"
     ]
    }
   ],
   "source": [
    "def quicksort(arr):\n",
    "    if len(arr) <= 1:\n",
    "        return arr\n",
    "    pivot = arr[len(arr) // 2]\n",
    "    left = [x for x in arr if x < pivot]\n",
    "    middle = [x for x in arr if x == pivot]\n",
    "    right = [x for x in arr if x > pivot]\n",
    "    return quicksort(left) + middle + quicksort(right)\n",
    "\n",
    "print(quicksort([3,6,8,10,1,2,1]))"
   ]
  },
  {
   "cell_type": "markdown",
   "metadata": {},
   "source": [
    "## Python versions\n",
    "현재 Python 2.7과 3.4의 지원되는 두 가지 버전이 있습니다. 다소 혼란스럽게도 Python 3.0은 많은 하위 호환성이없는 언어 변경 사항을 도입했기 때문에 2.7 용으로 작성된 코드는 3.4에서 작동하지 않을 수 있으며 그 반대도 마찬가지입니다. 이 클래스에서 모든 코드는 Python 3.x 을 사용합니다.\n",
    "\n",
    "\"python --version\" 을 실행하여 명령 줄에서 Python 버전을 확인할 수 있습니다."
   ]
  },
  {
   "cell_type": "markdown",
   "metadata": {},
   "source": [
    "## Basic data types\n",
    "\n",
    "### Numbers\n",
    "\n",
    "정수 및 실수는 다른 언어에서 기대하는 대로 작동합니다."
   ]
  },
  {
   "cell_type": "code",
   "execution_count": 7,
   "metadata": {
    "collapsed": false
   },
   "outputs": [
    {
     "name": "stdout",
     "output_type": "stream",
     "text": [
      "3 <class 'int'>\n"
     ]
    }
   ],
   "source": [
    "x = 3\n",
    "print(x, type(x))"
   ]
  },
  {
   "cell_type": "code",
   "execution_count": 8,
   "metadata": {
    "collapsed": false
   },
   "outputs": [
    {
     "name": "stdout",
     "output_type": "stream",
     "text": [
      "4\n",
      "2\n",
      "6\n",
      "9\n"
     ]
    }
   ],
   "source": [
    "print(x + 1)  # Addition;\n",
    "print(x - 1)  # Subtraction;\n",
    "print(x * 2)  # Multiplication;\n",
    "print(x ** 2)  # Exponentiation;"
   ]
  },
  {
   "cell_type": "code",
   "execution_count": 9,
   "metadata": {
    "collapsed": false
   },
   "outputs": [
    {
     "name": "stdout",
     "output_type": "stream",
     "text": [
      "4\n",
      "8\n"
     ]
    }
   ],
   "source": [
    "x += 1\n",
    "print(x)\n",
    "x *= 2\n",
    "print(x)"
   ]
  },
  {
   "cell_type": "code",
   "execution_count": 10,
   "metadata": {
    "collapsed": false
   },
   "outputs": [
    {
     "name": "stdout",
     "output_type": "stream",
     "text": [
      "<class 'float'>\n",
      "2.5 3.5 5.0 6.25\n"
     ]
    }
   ],
   "source": [
    "y = 2.5\n",
    "print(type(y))  # Prints \"<type 'float'>\"\n",
    "print( y, y+1, y*2, y**2)  # Print \"2.5 3.5 5.0 6.25\""
   ]
  },
  {
   "cell_type": "markdown",
   "metadata": {},
   "source": [
    "많은 언어와 달리 파이썬에는 단항 증가 (x ++) 또는 감소 (x--) 연산자가 없습니다. \n",
    "\n",
    "파이썬에는 긴 정수와 복소수를 위한 기본 제공 유형이 있으며, 자세한 내용은 [documentation](https://docs.python.org/2/library/stdtypes.html#numeric-types- int-float-long-complex)를 사용합니다.\n",
    "\n",
    "### Booleans\n",
    "\n",
    "파이썬은 불리언 논리에 대한 모든 일반적인 연산자를 구현하지만 기호 (`&&`,`||`등) 보다는 영어 단어를 사용합니다:"
   ]
  },
  {
   "cell_type": "code",
   "execution_count": 11,
   "metadata": {
    "collapsed": false
   },
   "outputs": [
    {
     "name": "stdout",
     "output_type": "stream",
     "text": [
      "<class 'bool'>\n"
     ]
    }
   ],
   "source": [
    "t, f = True, False\n",
    "print(type(t))   # Print \"<type 'bool'>\""
   ]
  },
  {
   "cell_type": "markdown",
   "metadata": {},
   "source": [
    "이제 다음의 연산들을 살펴 ​​보겠습니다."
   ]
  },
  {
   "cell_type": "code",
   "execution_count": 12,
   "metadata": {
    "collapsed": false
   },
   "outputs": [
    {
     "name": "stdout",
     "output_type": "stream",
     "text": [
      "False\n",
      "True\n",
      "False\n",
      "True\n"
     ]
    }
   ],
   "source": [
    "print(t and f)   # Logical AND;\n",
    "print(t or f)    # Logical OR;\n",
    "print(not t)     # Logical NOT;\n",
    "print(t != f)    # Logical XOR;"
   ]
  },
  {
   "cell_type": "markdown",
   "metadata": {},
   "source": [
    "### Strings"
   ]
  },
  {
   "cell_type": "code",
   "execution_count": 13,
   "metadata": {
    "collapsed": false
   },
   "outputs": [
    {
     "name": "stdout",
     "output_type": "stream",
     "text": [
      "hello 5\n"
     ]
    }
   ],
   "source": [
    "hello = 'hello'   # String literals can use single quotes\n",
    "world = \"world\"   # or double quotes; it does not matter\n",
    "print(hello, len(hello))"
   ]
  },
  {
   "cell_type": "code",
   "execution_count": 14,
   "metadata": {
    "collapsed": false
   },
   "outputs": [
    {
     "name": "stdout",
     "output_type": "stream",
     "text": [
      "hello world\n"
     ]
    }
   ],
   "source": [
    "hw = hello + ' ' + world    # String concatenation\n",
    "print(hw)                   # print \"hello world\""
   ]
  },
  {
   "cell_type": "code",
   "execution_count": 15,
   "metadata": {
    "collapsed": false
   },
   "outputs": [
    {
     "name": "stdout",
     "output_type": "stream",
     "text": [
      "hello world 12\n"
     ]
    }
   ],
   "source": [
    "hw12 = '%s %s %d' % (hello, world, 12)   # sprintf style string formatting\n",
    "print(hw12)     # print \"hello world 12\""
   ]
  },
  {
   "cell_type": "markdown",
   "metadata": {},
   "source": [
    "#### String objects have a bunck of useful methods; for example:"
   ]
  },
  {
   "cell_type": "code",
   "execution_count": 20,
   "metadata": {
    "collapsed": false
   },
   "outputs": [
    {
     "name": "stdout",
     "output_type": "stream",
     "text": [
      "Hello\n",
      "HELLO\n",
      "  hello\n",
      " hello \n",
      "he(ell)(ell)o\n",
      "world\n"
     ]
    }
   ],
   "source": [
    "s = \"hello\"\n",
    "print(s.capitalize())    # Capicalize a string; prints \"Hello\"\n",
    "print(s.upper())        # VConvert a string to uppercase; prints \"HELLO\"\n",
    "print(s.rjust(7))        # Right-justify a string, padding with spaces; pring \"  Hello\"\n",
    "print(s.center(7))       # Center a string, padding with spaces; prints \" hello \"\n",
    "print(s.replace('l', '(ell)'))   # Replace all instaces of one substring with another; prints \"he(ell)(ell)o\"\n",
    "print('  world '.strip())   # Strip leading and trailing whitespace; prints \"world\""
   ]
  },
  {
   "cell_type": "markdown",
   "metadata": {},
   "source": [
    "[documentation](https://docs.python.org/2/library/stdtypes.html#string-methods)에서 모든 문자열 메서드 목록을 찾을 수 있다."
   ]
  },
  {
   "cell_type": "markdown",
   "metadata": {},
   "source": [
    "## Containers\n",
    "\n",
    "파이썬에는  lists, dictionaries, sets, 과  tuples 같은 몇 가지 기본 제공 컨테이너 유형이 포함되어 있습니다.\n",
    "\n",
    "### Lists\n",
    "\n",
    "List는 파이썬에서의 배열과 같은 것이지만, 크기를 조정할 수 있고 다른 유형의 요소를 포함 할 수 있습니다."
   ]
  },
  {
   "cell_type": "code",
   "execution_count": 22,
   "metadata": {
    "collapsed": false
   },
   "outputs": [
    {
     "name": "stdout",
     "output_type": "stream",
     "text": [
      "[3, 1, 2] 2\n",
      "2\n"
     ]
    }
   ],
   "source": [
    "xs = [3, 1, 2]    # Create a list\n",
    "print(xs, xs[2])\n",
    "print(xs[-1])    # Negative indecies count frmo the end of the list; prints \"2\""
   ]
  },
  {
   "cell_type": "code",
   "execution_count": 23,
   "metadata": {
    "collapsed": false
   },
   "outputs": [
    {
     "name": "stdout",
     "output_type": "stream",
     "text": [
      "foo\n"
     ]
    }
   ],
   "source": [
    "xs[2] = 'foo'   # Lists can contain elements of different types\n",
    "print(xs[2])"
   ]
  },
  {
   "cell_type": "code",
   "execution_count": 24,
   "metadata": {
    "collapsed": false
   },
   "outputs": [
    {
     "name": "stdout",
     "output_type": "stream",
     "text": [
      "[3, 1, 'foo', 'bar']\n"
     ]
    }
   ],
   "source": [
    "xs.append('bar')   # Add a new element to the end of the list\n",
    "print(xs)"
   ]
  },
  {
   "cell_type": "code",
   "execution_count": 25,
   "metadata": {
    "collapsed": false
   },
   "outputs": [
    {
     "name": "stdout",
     "output_type": "stream",
     "text": [
      "bar [3, 1, 'foo']\n"
     ]
    }
   ],
   "source": [
    "x = xs.pop()    # Remove and return the last element of the list\n",
    "print(x, xs)"
   ]
  },
  {
   "cell_type": "markdown",
   "metadata": {},
   "source": [
    "마찬가지로 list 에 대한 모든 세부 정보를 [여기](https://docs.python.org/2/tutorial/datastructures.html#more-on-lists)에서 찾을 수 있습니다."
   ]
  },
  {
   "cell_type": "markdown",
   "metadata": {},
   "source": [
    "#### Slicing\n",
    "\n",
    "한 번에 하나씩 목록 요소에 접근하는 것 외에도 Python은 하위 목록에 접근하기위한 간결한 구문을 제공합니다. 이것은 slicing 으로 알려져 있습니다 :"
   ]
  },
  {
   "cell_type": "code",
   "execution_count": 29,
   "metadata": {
    "collapsed": false
   },
   "outputs": [
    {
     "name": "stdout",
     "output_type": "stream",
     "text": [
      "[0, 1, 2, 3, 4]\n",
      "[2, 3]\n",
      "[2, 3, 4]\n",
      "[0, 1]\n",
      "[0, 1, 2, 3, 4]\n",
      "[0, 1, 2, 3]\n",
      "[0, 1, 8, 9, 4]\n"
     ]
    }
   ],
   "source": [
    "nums = [0, 1, 2, 3, 4]    # range is a built-in function that creates a list of integers\n",
    "print(nums)        # prints \"[0, 1, 2, 3, 4]\"\n",
    "print(nums[2:4])   # get a slice from index 2 to 4 (exclusive); prints \"[2, 3]\"\n",
    "print(nums[2:])    # Get a slice from index 2 to the end; print \"[2, 3, 4]\"\n",
    "print(nums[:2])    # Get a slice from the start to index 2 (exclusive); print \"[0, 1]\"\n",
    "print(nums[:])     # Get a slice of the whole list; prints \"[0, 1, 2, 3, 4]\"\n",
    "print(nums[:-1])   # Slice indices can be negative; print \"[0, 1, 2, 3]\"\n",
    "nums[2:4] = [8, 9] # Assign a new sublist to a slice\n",
    "print(nums)"
   ]
  },
  {
   "cell_type": "code",
   "execution_count": null,
   "metadata": {
    "collapsed": true
   },
   "outputs": [],
   "source": []
  }
 ],
 "metadata": {
  "kernelspec": {
   "display_name": "Python 3",
   "language": "python",
   "name": "python3"
  },
  "language_info": {
   "codemirror_mode": {
    "name": "ipython",
    "version": 3
   },
   "file_extension": ".py",
   "mimetype": "text/x-python",
   "name": "python",
   "nbconvert_exporter": "python",
   "pygments_lexer": "ipython3",
   "version": "3.6.4"
  }
 },
 "nbformat": 4,
 "nbformat_minor": 2
}
